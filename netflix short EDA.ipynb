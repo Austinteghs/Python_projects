{
 "cells": [
  {
   "cell_type": "code",
   "execution_count": 1,
   "id": "5e6d6493-0e5b-42db-8ede-dcc56aa04bc6",
   "metadata": {},
   "outputs": [],
   "source": [
    "import pandas as pd\n",
    "import numpy as np"
   ]
  },
  {
   "cell_type": "code",
   "execution_count": 2,
   "id": "0a4a4ca2-012c-4982-94b2-ada1d17f48b7",
   "metadata": {},
   "outputs": [],
   "source": [
    "# load your dataset\n",
    "df = pd.read_csv(\"Desktop/#From Eghosa/#Python training/Python data cleaning/Practise 1/Netflix TV Shows and Movies.csv\")"
   ]
  },
  {
   "cell_type": "code",
   "execution_count": 3,
   "id": "9b927928-0b83-45c9-be10-928452efe592",
   "metadata": {
    "scrolled": true
   },
   "outputs": [
    {
     "data": {
      "text/html": [
       "<div>\n",
       "<style scoped>\n",
       "    .dataframe tbody tr th:only-of-type {\n",
       "        vertical-align: middle;\n",
       "    }\n",
       "\n",
       "    .dataframe tbody tr th {\n",
       "        vertical-align: top;\n",
       "    }\n",
       "\n",
       "    .dataframe thead th {\n",
       "        text-align: right;\n",
       "    }\n",
       "</style>\n",
       "<table border=\"1\" class=\"dataframe\">\n",
       "  <thead>\n",
       "    <tr style=\"text-align: right;\">\n",
       "      <th></th>\n",
       "      <th>index</th>\n",
       "      <th>id</th>\n",
       "      <th>title</th>\n",
       "      <th>type</th>\n",
       "      <th>description</th>\n",
       "      <th>release_year</th>\n",
       "      <th>age_certification</th>\n",
       "      <th>runtime</th>\n",
       "      <th>imdb_id</th>\n",
       "      <th>imdb_score</th>\n",
       "      <th>imdb_votes</th>\n",
       "    </tr>\n",
       "  </thead>\n",
       "  <tbody>\n",
       "    <tr>\n",
       "      <th>0</th>\n",
       "      <td>0</td>\n",
       "      <td>tm84618</td>\n",
       "      <td>Taxi Driver</td>\n",
       "      <td>MOVIE</td>\n",
       "      <td>A mentally unstable Vietnam War veteran works ...</td>\n",
       "      <td>1976</td>\n",
       "      <td>R</td>\n",
       "      <td>113</td>\n",
       "      <td>tt0075314</td>\n",
       "      <td>8.3</td>\n",
       "      <td>795222.0</td>\n",
       "    </tr>\n",
       "    <tr>\n",
       "      <th>1</th>\n",
       "      <td>1</td>\n",
       "      <td>tm127384</td>\n",
       "      <td>Monty Python and the Holy Grail</td>\n",
       "      <td>MOVIE</td>\n",
       "      <td>King Arthur, accompanied by his squire, recrui...</td>\n",
       "      <td>1975</td>\n",
       "      <td>PG</td>\n",
       "      <td>91</td>\n",
       "      <td>tt0071853</td>\n",
       "      <td>8.2</td>\n",
       "      <td>530877.0</td>\n",
       "    </tr>\n",
       "    <tr>\n",
       "      <th>2</th>\n",
       "      <td>2</td>\n",
       "      <td>tm70993</td>\n",
       "      <td>Life of Brian</td>\n",
       "      <td>MOVIE</td>\n",
       "      <td>Brian Cohen is an average young Jewish man, bu...</td>\n",
       "      <td>1979</td>\n",
       "      <td>R</td>\n",
       "      <td>94</td>\n",
       "      <td>tt0079470</td>\n",
       "      <td>8.0</td>\n",
       "      <td>392419.0</td>\n",
       "    </tr>\n",
       "    <tr>\n",
       "      <th>3</th>\n",
       "      <td>3</td>\n",
       "      <td>tm190788</td>\n",
       "      <td>The Exorcist</td>\n",
       "      <td>MOVIE</td>\n",
       "      <td>12-year-old Regan MacNeil begins to adapt an e...</td>\n",
       "      <td>1973</td>\n",
       "      <td>R</td>\n",
       "      <td>133</td>\n",
       "      <td>tt0070047</td>\n",
       "      <td>8.1</td>\n",
       "      <td>391942.0</td>\n",
       "    </tr>\n",
       "    <tr>\n",
       "      <th>4</th>\n",
       "      <td>4</td>\n",
       "      <td>ts22164</td>\n",
       "      <td>Monty Python's Flying Circus</td>\n",
       "      <td>SHOW</td>\n",
       "      <td>A British sketch comedy series with the shows ...</td>\n",
       "      <td>1969</td>\n",
       "      <td>TV-14</td>\n",
       "      <td>30</td>\n",
       "      <td>tt0063929</td>\n",
       "      <td>8.8</td>\n",
       "      <td>72895.0</td>\n",
       "    </tr>\n",
       "    <tr>\n",
       "      <th>...</th>\n",
       "      <td>...</td>\n",
       "      <td>...</td>\n",
       "      <td>...</td>\n",
       "      <td>...</td>\n",
       "      <td>...</td>\n",
       "      <td>...</td>\n",
       "      <td>...</td>\n",
       "      <td>...</td>\n",
       "      <td>...</td>\n",
       "      <td>...</td>\n",
       "      <td>...</td>\n",
       "    </tr>\n",
       "    <tr>\n",
       "      <th>5278</th>\n",
       "      <td>5278</td>\n",
       "      <td>tm1040816</td>\n",
       "      <td>Momshies! Your Soul is Mine</td>\n",
       "      <td>MOVIE</td>\n",
       "      <td>Three women with totally different lives accid...</td>\n",
       "      <td>2021</td>\n",
       "      <td>NaN</td>\n",
       "      <td>108</td>\n",
       "      <td>tt14412240</td>\n",
       "      <td>5.8</td>\n",
       "      <td>26.0</td>\n",
       "    </tr>\n",
       "    <tr>\n",
       "      <th>5279</th>\n",
       "      <td>5279</td>\n",
       "      <td>tm1014599</td>\n",
       "      <td>Fine Wine</td>\n",
       "      <td>MOVIE</td>\n",
       "      <td>A beautiful love story that can happen between...</td>\n",
       "      <td>2021</td>\n",
       "      <td>NaN</td>\n",
       "      <td>100</td>\n",
       "      <td>tt13857480</td>\n",
       "      <td>6.9</td>\n",
       "      <td>39.0</td>\n",
       "    </tr>\n",
       "    <tr>\n",
       "      <th>5280</th>\n",
       "      <td>5280</td>\n",
       "      <td>tm1045018</td>\n",
       "      <td>Clash</td>\n",
       "      <td>MOVIE</td>\n",
       "      <td>A man from Nigeria returns to his family in Ca...</td>\n",
       "      <td>2021</td>\n",
       "      <td>NaN</td>\n",
       "      <td>88</td>\n",
       "      <td>tt14620732</td>\n",
       "      <td>6.5</td>\n",
       "      <td>32.0</td>\n",
       "    </tr>\n",
       "    <tr>\n",
       "      <th>5281</th>\n",
       "      <td>5281</td>\n",
       "      <td>tm1098060</td>\n",
       "      <td>Shadow Parties</td>\n",
       "      <td>MOVIE</td>\n",
       "      <td>A family faces destruction in a long-running c...</td>\n",
       "      <td>2021</td>\n",
       "      <td>NaN</td>\n",
       "      <td>116</td>\n",
       "      <td>tt10168094</td>\n",
       "      <td>6.2</td>\n",
       "      <td>9.0</td>\n",
       "    </tr>\n",
       "    <tr>\n",
       "      <th>5282</th>\n",
       "      <td>5282</td>\n",
       "      <td>ts271048</td>\n",
       "      <td>Mighty Little Bheem: Kite Festival</td>\n",
       "      <td>SHOW</td>\n",
       "      <td>With winter behind them, Bheem and his townspe...</td>\n",
       "      <td>2021</td>\n",
       "      <td>NaN</td>\n",
       "      <td>0</td>\n",
       "      <td>tt13711094</td>\n",
       "      <td>8.8</td>\n",
       "      <td>16.0</td>\n",
       "    </tr>\n",
       "  </tbody>\n",
       "</table>\n",
       "<p>5283 rows × 11 columns</p>\n",
       "</div>"
      ],
      "text/plain": [
       "      index         id                               title   type  \\\n",
       "0         0    tm84618                         Taxi Driver  MOVIE   \n",
       "1         1   tm127384     Monty Python and the Holy Grail  MOVIE   \n",
       "2         2    tm70993                       Life of Brian  MOVIE   \n",
       "3         3   tm190788                        The Exorcist  MOVIE   \n",
       "4         4    ts22164        Monty Python's Flying Circus   SHOW   \n",
       "...     ...        ...                                 ...    ...   \n",
       "5278   5278  tm1040816         Momshies! Your Soul is Mine  MOVIE   \n",
       "5279   5279  tm1014599                           Fine Wine  MOVIE   \n",
       "5280   5280  tm1045018                               Clash  MOVIE   \n",
       "5281   5281  tm1098060                      Shadow Parties  MOVIE   \n",
       "5282   5282   ts271048  Mighty Little Bheem: Kite Festival   SHOW   \n",
       "\n",
       "                                            description  release_year  \\\n",
       "0     A mentally unstable Vietnam War veteran works ...          1976   \n",
       "1     King Arthur, accompanied by his squire, recrui...          1975   \n",
       "2     Brian Cohen is an average young Jewish man, bu...          1979   \n",
       "3     12-year-old Regan MacNeil begins to adapt an e...          1973   \n",
       "4     A British sketch comedy series with the shows ...          1969   \n",
       "...                                                 ...           ...   \n",
       "5278  Three women with totally different lives accid...          2021   \n",
       "5279  A beautiful love story that can happen between...          2021   \n",
       "5280  A man from Nigeria returns to his family in Ca...          2021   \n",
       "5281  A family faces destruction in a long-running c...          2021   \n",
       "5282  With winter behind them, Bheem and his townspe...          2021   \n",
       "\n",
       "     age_certification  runtime     imdb_id  imdb_score  imdb_votes  \n",
       "0                    R      113   tt0075314         8.3    795222.0  \n",
       "1                   PG       91   tt0071853         8.2    530877.0  \n",
       "2                    R       94   tt0079470         8.0    392419.0  \n",
       "3                    R      133   tt0070047         8.1    391942.0  \n",
       "4                TV-14       30   tt0063929         8.8     72895.0  \n",
       "...                ...      ...         ...         ...         ...  \n",
       "5278               NaN      108  tt14412240         5.8        26.0  \n",
       "5279               NaN      100  tt13857480         6.9        39.0  \n",
       "5280               NaN       88  tt14620732         6.5        32.0  \n",
       "5281               NaN      116  tt10168094         6.2         9.0  \n",
       "5282               NaN        0  tt13711094         8.8        16.0  \n",
       "\n",
       "[5283 rows x 11 columns]"
      ]
     },
     "execution_count": 3,
     "metadata": {},
     "output_type": "execute_result"
    }
   ],
   "source": [
    "# view the data\n",
    "df"
   ]
  },
  {
   "cell_type": "code",
   "execution_count": 4,
   "id": "492fae09-edf6-45b0-917f-a4748d9ecabf",
   "metadata": {},
   "outputs": [
    {
     "data": {
      "text/plain": [
       "Index(['index', 'id', 'title', 'type', 'description', 'release_year',\n",
       "       'age_certification', 'runtime', 'imdb_id', 'imdb_score', 'imdb_votes'],\n",
       "      dtype='object')"
      ]
     },
     "execution_count": 4,
     "metadata": {},
     "output_type": "execute_result"
    }
   ],
   "source": [
    "# getting column headers\n",
    "df.columns"
   ]
  },
  {
   "cell_type": "code",
   "execution_count": 5,
   "id": "766545b3-5891-4dbc-b240-68b1e727dddf",
   "metadata": {},
   "outputs": [
    {
     "data": {
      "text/plain": [
       "['index',\n",
       " 'id',\n",
       " 'title',\n",
       " 'type',\n",
       " 'description',\n",
       " 'release_year',\n",
       " 'age_certification',\n",
       " 'runtime',\n",
       " 'imdb_id',\n",
       " 'imdb_score',\n",
       " 'imdb_votes']"
      ]
     },
     "execution_count": 5,
     "metadata": {},
     "output_type": "execute_result"
    }
   ],
   "source": [
    "# list of column headers\n",
    "list(df.columns)"
   ]
  },
  {
   "cell_type": "code",
   "execution_count": 6,
   "id": "d42174a2-a739-4caf-869e-363e8c953562",
   "metadata": {},
   "outputs": [],
   "source": [
    "# lets change the title header to movie_name and release year to year_of_release\n",
    "# lets also utilise inplace = True to make the change permanent\n",
    "df.rename(columns= {'title': 'movie_name',  'release_year': 'year_of_release'}, inplace= 'True')\n"
   ]
  },
  {
   "cell_type": "code",
   "execution_count": 7,
   "id": "729a599f-2a88-410d-832e-b024fb1e67b9",
   "metadata": {},
   "outputs": [],
   "source": [
    "# next lets put a new column status based on the year of release of the movie\n",
    "# anything older than 2020 will be old and anything more recent will be new\n",
    "df.insert(6, 'status',  np.where(df['year_of_release'] < 2020, 'old', 'new') )"
   ]
  },
  {
   "cell_type": "code",
   "execution_count": 8,
   "id": "7081464d-ffdc-44f0-b129-159e42c3e6cf",
   "metadata": {},
   "outputs": [
    {
     "data": {
      "text/plain": [
       "Index(['index', 'id', 'movie_name', 'type', 'description', 'year_of_release',\n",
       "       'status', 'age_certification', 'runtime', 'imdb_id', 'imdb_score',\n",
       "       'imdb_votes'],\n",
       "      dtype='object')"
      ]
     },
     "execution_count": 8,
     "metadata": {},
     "output_type": "execute_result"
    }
   ],
   "source": [
    "df.columns\n"
   ]
  },
  {
   "cell_type": "code",
   "execution_count": 9,
   "id": "3e9c10a1-5fee-4f64-a793-f286a4bbb305",
   "metadata": {},
   "outputs": [
    {
     "data": {
      "text/html": [
       "<div>\n",
       "<style scoped>\n",
       "    .dataframe tbody tr th:only-of-type {\n",
       "        vertical-align: middle;\n",
       "    }\n",
       "\n",
       "    .dataframe tbody tr th {\n",
       "        vertical-align: top;\n",
       "    }\n",
       "\n",
       "    .dataframe thead th {\n",
       "        text-align: right;\n",
       "    }\n",
       "</style>\n",
       "<table border=\"1\" class=\"dataframe\">\n",
       "  <thead>\n",
       "    <tr style=\"text-align: right;\">\n",
       "      <th></th>\n",
       "      <th>index</th>\n",
       "      <th>id</th>\n",
       "      <th>movie_name</th>\n",
       "      <th>type</th>\n",
       "      <th>description</th>\n",
       "      <th>year_of_release</th>\n",
       "      <th>status</th>\n",
       "      <th>age_certification</th>\n",
       "      <th>runtime</th>\n",
       "      <th>imdb_id</th>\n",
       "      <th>imdb_score</th>\n",
       "      <th>imdb_votes</th>\n",
       "    </tr>\n",
       "  </thead>\n",
       "  <tbody>\n",
       "    <tr>\n",
       "      <th>0</th>\n",
       "      <td>0</td>\n",
       "      <td>tm84618</td>\n",
       "      <td>Taxi Driver</td>\n",
       "      <td>MOVIE</td>\n",
       "      <td>A mentally unstable Vietnam War veteran works ...</td>\n",
       "      <td>1976</td>\n",
       "      <td>old</td>\n",
       "      <td>R</td>\n",
       "      <td>113</td>\n",
       "      <td>tt0075314</td>\n",
       "      <td>8.3</td>\n",
       "      <td>795222.0</td>\n",
       "    </tr>\n",
       "    <tr>\n",
       "      <th>1</th>\n",
       "      <td>1</td>\n",
       "      <td>tm127384</td>\n",
       "      <td>Monty Python and the Holy Grail</td>\n",
       "      <td>MOVIE</td>\n",
       "      <td>King Arthur, accompanied by his squire, recrui...</td>\n",
       "      <td>1975</td>\n",
       "      <td>old</td>\n",
       "      <td>PG</td>\n",
       "      <td>91</td>\n",
       "      <td>tt0071853</td>\n",
       "      <td>8.2</td>\n",
       "      <td>530877.0</td>\n",
       "    </tr>\n",
       "  </tbody>\n",
       "</table>\n",
       "</div>"
      ],
      "text/plain": [
       "   index        id                       movie_name   type  \\\n",
       "0      0   tm84618                      Taxi Driver  MOVIE   \n",
       "1      1  tm127384  Monty Python and the Holy Grail  MOVIE   \n",
       "\n",
       "                                         description  year_of_release status  \\\n",
       "0  A mentally unstable Vietnam War veteran works ...             1976    old   \n",
       "1  King Arthur, accompanied by his squire, recrui...             1975    old   \n",
       "\n",
       "  age_certification  runtime    imdb_id  imdb_score  imdb_votes  \n",
       "0                 R      113  tt0075314         8.3    795222.0  \n",
       "1                PG       91  tt0071853         8.2    530877.0  "
      ]
     },
     "execution_count": 9,
     "metadata": {},
     "output_type": "execute_result"
    }
   ],
   "source": [
    "df.head(2)\n",
    "\n"
   ]
  },
  {
   "cell_type": "code",
   "execution_count": 10,
   "id": "d7ec8496-2f68-4b6e-beed-c701c2bbb45d",
   "metadata": {},
   "outputs": [
    {
     "data": {
      "text/plain": [
       "0                              Taxi Driver\n",
       "1          Monty Python and the Holy Grail\n",
       "2                            Life of Brian\n",
       "3                             The Exorcist\n",
       "4             Monty Python's Flying Circus\n",
       "                       ...                \n",
       "5278           Momshies! Your Soul is Mine\n",
       "5279                             Fine Wine\n",
       "5280                                 Clash\n",
       "5281                        Shadow Parties\n",
       "5282    Mighty Little Bheem: Kite Festival\n",
       "Name: movie_name, Length: 5283, dtype: object"
      ]
     },
     "execution_count": 10,
     "metadata": {},
     "output_type": "execute_result"
    }
   ],
   "source": [
    "# lets try to get the movie name details only\n",
    "df.movie_name"
   ]
  },
  {
   "cell_type": "code",
   "execution_count": 11,
   "id": "b08d5aa1-7c36-4618-a22b-189a0679f776",
   "metadata": {},
   "outputs": [
    {
     "data": {
      "text/plain": [
       "0                                 [Taxi, Driver]\n",
       "1         [Monty, Python, and, the, Holy, Grail]\n",
       "2                              [Life, of, Brian]\n",
       "3                                [The, Exorcist]\n",
       "4              [Monty, Python's, Flying, Circus]\n",
       "                          ...                   \n",
       "5278           [Momshies!, Your, Soul, is, Mine]\n",
       "5279                                [Fine, Wine]\n",
       "5280                                     [Clash]\n",
       "5281                           [Shadow, Parties]\n",
       "5282    [Mighty, Little, Bheem:, Kite, Festival]\n",
       "Name: movie_name, Length: 5283, dtype: object"
      ]
     },
     "execution_count": 11,
     "metadata": {},
     "output_type": "execute_result"
    }
   ],
   "source": [
    "# lets try split each word in the movie_name column temporarily\n",
    "df.movie_name.str.split(\" \")"
   ]
  },
  {
   "cell_type": "code",
   "execution_count": 12,
   "id": "2a496243-e1af-4c27-8cb2-69f1a53c8e8a",
   "metadata": {},
   "outputs": [
    {
     "data": {
      "text/html": [
       "<div>\n",
       "<style scoped>\n",
       "    .dataframe tbody tr th:only-of-type {\n",
       "        vertical-align: middle;\n",
       "    }\n",
       "\n",
       "    .dataframe tbody tr th {\n",
       "        vertical-align: top;\n",
       "    }\n",
       "\n",
       "    .dataframe thead th {\n",
       "        text-align: right;\n",
       "    }\n",
       "</style>\n",
       "<table border=\"1\" class=\"dataframe\">\n",
       "  <thead>\n",
       "    <tr style=\"text-align: right;\">\n",
       "      <th></th>\n",
       "      <th>index</th>\n",
       "      <th>id</th>\n",
       "      <th>movie_name</th>\n",
       "      <th>type</th>\n",
       "      <th>description</th>\n",
       "      <th>year_of_release</th>\n",
       "      <th>status</th>\n",
       "      <th>age_certification</th>\n",
       "      <th>runtime</th>\n",
       "      <th>imdb_id</th>\n",
       "      <th>imdb_score</th>\n",
       "      <th>imdb_votes</th>\n",
       "    </tr>\n",
       "  </thead>\n",
       "  <tbody>\n",
       "    <tr>\n",
       "      <th>0</th>\n",
       "      <td>0</td>\n",
       "      <td>tm84618</td>\n",
       "      <td>Taxi Driver</td>\n",
       "      <td>MOVIE</td>\n",
       "      <td>A mentally unstable Vietnam War veteran works ...</td>\n",
       "      <td>1976</td>\n",
       "      <td>old</td>\n",
       "      <td>R</td>\n",
       "      <td>113</td>\n",
       "      <td>tt0075314</td>\n",
       "      <td>8.3</td>\n",
       "      <td>795222.0</td>\n",
       "    </tr>\n",
       "  </tbody>\n",
       "</table>\n",
       "</div>"
      ],
      "text/plain": [
       "   index       id   movie_name   type  \\\n",
       "0      0  tm84618  Taxi Driver  MOVIE   \n",
       "\n",
       "                                         description  year_of_release status  \\\n",
       "0  A mentally unstable Vietnam War veteran works ...             1976    old   \n",
       "\n",
       "  age_certification  runtime    imdb_id  imdb_score  imdb_votes  \n",
       "0                 R      113  tt0075314         8.3    795222.0  "
      ]
     },
     "execution_count": 12,
     "metadata": {},
     "output_type": "execute_result"
    }
   ],
   "source": [
    "# lets edit the imdb_id column\n",
    "df.head(1)"
   ]
  },
  {
   "cell_type": "code",
   "execution_count": 13,
   "id": "695efa16-4bad-4622-a628-c173927331ab",
   "metadata": {},
   "outputs": [
    {
     "data": {
      "text/plain": [
       "0        tt0075314\n",
       "1        tt0071853\n",
       "2        tt0079470\n",
       "3        tt0070047\n",
       "4        tt0063929\n",
       "           ...    \n",
       "5278    tt14412240\n",
       "5279    tt13857480\n",
       "5280    tt14620732\n",
       "5281    tt10168094\n",
       "5282    tt13711094\n",
       "Name: imdb_id, Length: 5283, dtype: object"
      ]
     },
     "execution_count": 13,
     "metadata": {},
     "output_type": "execute_result"
    }
   ],
   "source": [
    "# we wanna get ride of unessary words but first lets call our column\n",
    "# df.imdb_id or use\n",
    "df['imdb_id']"
   ]
  },
  {
   "cell_type": "code",
   "execution_count": 14,
   "id": "8cc97651-a9d9-4418-96ee-4a38a8d494ec",
   "metadata": {},
   "outputs": [],
   "source": [
    "# lets replace tt with imdb\n",
    "df['imdb_id'] = df['imdb_id'].str.replace('tt', 'imdb')"
   ]
  },
  {
   "cell_type": "code",
   "execution_count": 15,
   "id": "c49b3305-8b19-48c4-aff7-711a0ee0c3c8",
   "metadata": {},
   "outputs": [
    {
     "data": {
      "text/html": [
       "<div>\n",
       "<style scoped>\n",
       "    .dataframe tbody tr th:only-of-type {\n",
       "        vertical-align: middle;\n",
       "    }\n",
       "\n",
       "    .dataframe tbody tr th {\n",
       "        vertical-align: top;\n",
       "    }\n",
       "\n",
       "    .dataframe thead th {\n",
       "        text-align: right;\n",
       "    }\n",
       "</style>\n",
       "<table border=\"1\" class=\"dataframe\">\n",
       "  <thead>\n",
       "    <tr style=\"text-align: right;\">\n",
       "      <th></th>\n",
       "      <th>index</th>\n",
       "      <th>id</th>\n",
       "      <th>movie_name</th>\n",
       "      <th>type</th>\n",
       "      <th>description</th>\n",
       "      <th>year_of_release</th>\n",
       "      <th>status</th>\n",
       "      <th>age_certification</th>\n",
       "      <th>runtime</th>\n",
       "      <th>imdb_id</th>\n",
       "      <th>imdb_score</th>\n",
       "      <th>imdb_votes</th>\n",
       "    </tr>\n",
       "  </thead>\n",
       "  <tbody>\n",
       "    <tr>\n",
       "      <th>0</th>\n",
       "      <td>0</td>\n",
       "      <td>tm84618</td>\n",
       "      <td>Taxi Driver</td>\n",
       "      <td>MOVIE</td>\n",
       "      <td>A mentally unstable Vietnam War veteran works ...</td>\n",
       "      <td>1976</td>\n",
       "      <td>old</td>\n",
       "      <td>R</td>\n",
       "      <td>113</td>\n",
       "      <td>imdb0075314</td>\n",
       "      <td>8.3</td>\n",
       "      <td>795222.0</td>\n",
       "    </tr>\n",
       "  </tbody>\n",
       "</table>\n",
       "</div>"
      ],
      "text/plain": [
       "   index       id   movie_name   type  \\\n",
       "0      0  tm84618  Taxi Driver  MOVIE   \n",
       "\n",
       "                                         description  year_of_release status  \\\n",
       "0  A mentally unstable Vietnam War veteran works ...             1976    old   \n",
       "\n",
       "  age_certification  runtime      imdb_id  imdb_score  imdb_votes  \n",
       "0                 R      113  imdb0075314         8.3    795222.0  "
      ]
     },
     "execution_count": 15,
     "metadata": {},
     "output_type": "execute_result"
    }
   ],
   "source": [
    "df.head(1)"
   ]
  },
  {
   "cell_type": "markdown",
   "id": "6dbc879f-25cf-4893-bbd1-2bcd14f3f8ba",
   "metadata": {},
   "source": [
    "### Finding a str and expression\n",
    "\n",
    "#### str.filter\n",
    "#### str.match\n",
    "#### str.contains"
   ]
  },
  {
   "cell_type": "code",
   "execution_count": 16,
   "id": "47beab9e-9aa6-4362-9518-aa81628c8df5",
   "metadata": {},
   "outputs": [
    {
     "data": {
      "text/plain": [
       "0           R\n",
       "1          PG\n",
       "2           R\n",
       "3           R\n",
       "4       TV-14\n",
       "        ...  \n",
       "5278      NaN\n",
       "5279      NaN\n",
       "5280      NaN\n",
       "5281      NaN\n",
       "5282      NaN\n",
       "Name: age_certification, Length: 5283, dtype: object"
      ]
     },
     "execution_count": 16,
     "metadata": {},
     "output_type": "execute_result"
    }
   ],
   "source": [
    "# lets look at age certification\n",
    "#df.head(1)\n",
    "df['age_certification']"
   ]
  },
  {
   "cell_type": "code",
   "execution_count": 17,
   "id": "38c9e994-8257-4ecb-a8e9-5594f23e2156",
   "metadata": {},
   "outputs": [
    {
     "data": {
      "text/plain": [
       "0        True\n",
       "1       False\n",
       "2        True\n",
       "3        True\n",
       "4       False\n",
       "        ...  \n",
       "5278      NaN\n",
       "5279      NaN\n",
       "5280      NaN\n",
       "5281      NaN\n",
       "5282      NaN\n",
       "Name: age_certification, Length: 5283, dtype: object"
      ]
     },
     "execution_count": 17,
     "metadata": {},
     "output_type": "execute_result"
    }
   ],
   "source": [
    "df['age_certification'].str.contains('R')"
   ]
  },
  {
   "cell_type": "code",
   "execution_count": 18,
   "id": "3d2b4ee3-2159-4ce3-9ca2-01c357e6fb19",
   "metadata": {},
   "outputs": [
    {
     "ename": "ValueError",
     "evalue": "Cannot mask with non-boolean array containing NA / NaN values",
     "output_type": "error",
     "traceback": [
      "\u001b[1;31m---------------------------------------------------------------------------\u001b[0m",
      "\u001b[1;31mValueError\u001b[0m                                Traceback (most recent call last)",
      "Cell \u001b[1;32mIn[18], line 3\u001b[0m\n\u001b[0;32m      1\u001b[0m \u001b[38;5;66;03m# we want to drill down to our data frame where the age certification or age rating (if you change it), contains R\u001b[39;00m\n\u001b[0;32m      2\u001b[0m \u001b[38;5;66;03m# Unfortunately it wont work till we drop na\u001b[39;00m\n\u001b[1;32m----> 3\u001b[0m df[df[\u001b[38;5;124m'\u001b[39m\u001b[38;5;124mage_certification\u001b[39m\u001b[38;5;124m'\u001b[39m]\u001b[38;5;241m.\u001b[39mstr\u001b[38;5;241m.\u001b[39mcontains(\u001b[38;5;124m'\u001b[39m\u001b[38;5;124mR\u001b[39m\u001b[38;5;124m'\u001b[39m)]\n",
      "File \u001b[1;32mC:\\Anaconda\\Lib\\site-packages\\pandas\\core\\frame.py:3883\u001b[0m, in \u001b[0;36mDataFrame.__getitem__\u001b[1;34m(self, key)\u001b[0m\n\u001b[0;32m   3880\u001b[0m     \u001b[38;5;28;01mreturn\u001b[39;00m \u001b[38;5;28mself\u001b[39m\u001b[38;5;241m.\u001b[39mwhere(key)\n\u001b[0;32m   3882\u001b[0m \u001b[38;5;66;03m# Do we have a (boolean) 1d indexer?\u001b[39;00m\n\u001b[1;32m-> 3883\u001b[0m \u001b[38;5;28;01mif\u001b[39;00m com\u001b[38;5;241m.\u001b[39mis_bool_indexer(key):\n\u001b[0;32m   3884\u001b[0m     \u001b[38;5;28;01mreturn\u001b[39;00m \u001b[38;5;28mself\u001b[39m\u001b[38;5;241m.\u001b[39m_getitem_bool_array(key)\n\u001b[0;32m   3886\u001b[0m \u001b[38;5;66;03m# We are left with two options: a single key, and a collection of keys,\u001b[39;00m\n\u001b[0;32m   3887\u001b[0m \u001b[38;5;66;03m# We interpret tuples as collections only for non-MultiIndex\u001b[39;00m\n",
      "File \u001b[1;32mC:\\Anaconda\\Lib\\site-packages\\pandas\\core\\common.py:133\u001b[0m, in \u001b[0;36mis_bool_indexer\u001b[1;34m(key)\u001b[0m\n\u001b[0;32m    129\u001b[0m     na_msg \u001b[38;5;241m=\u001b[39m \u001b[38;5;124m\"\u001b[39m\u001b[38;5;124mCannot mask with non-boolean array containing NA / NaN values\u001b[39m\u001b[38;5;124m\"\u001b[39m\n\u001b[0;32m    130\u001b[0m     \u001b[38;5;28;01mif\u001b[39;00m lib\u001b[38;5;241m.\u001b[39mis_bool_array(key_array, skipna\u001b[38;5;241m=\u001b[39m\u001b[38;5;28;01mTrue\u001b[39;00m):\n\u001b[0;32m    131\u001b[0m         \u001b[38;5;66;03m# Don't raise on e.g. [\"A\", \"B\", np.nan], see\u001b[39;00m\n\u001b[0;32m    132\u001b[0m         \u001b[38;5;66;03m#  test_loc_getitem_list_of_labels_categoricalindex_with_na\u001b[39;00m\n\u001b[1;32m--> 133\u001b[0m         \u001b[38;5;28;01mraise\u001b[39;00m \u001b[38;5;167;01mValueError\u001b[39;00m(na_msg)\n\u001b[0;32m    134\u001b[0m     \u001b[38;5;28;01mreturn\u001b[39;00m \u001b[38;5;28;01mFalse\u001b[39;00m\n\u001b[0;32m    135\u001b[0m \u001b[38;5;28;01mreturn\u001b[39;00m \u001b[38;5;28;01mTrue\u001b[39;00m\n",
      "\u001b[1;31mValueError\u001b[0m: Cannot mask with non-boolean array containing NA / NaN values"
     ]
    }
   ],
   "source": [
    "# we want to drill down to our data frame where the age certification or age rating (if you change it), contains R\n",
    "# Unfortunately it wont work till we drop na\n",
    "df[df['age_certification'].str.contains('R')]"
   ]
  },
  {
   "cell_type": "code",
   "execution_count": null,
   "id": "44175e59-0a85-4112-9a81-6c12ae2d4a5d",
   "metadata": {},
   "outputs": [],
   "source": [
    "# first lets find out how many na values there are;\n",
    "df.isna().sum().sum()"
   ]
  },
  {
   "cell_type": "code",
   "execution_count": null,
   "id": "faf27f60-ece0-4d9c-9fc1-278ea309540d",
   "metadata": {},
   "outputs": [],
   "source": [
    "df = df.dropna()"
   ]
  },
  {
   "cell_type": "code",
   "execution_count": null,
   "id": "a3a8af1a-6fb8-4999-9fa4-aaeee5cda536",
   "metadata": {},
   "outputs": [],
   "source": [
    "# now no na value exists and now we can further slice down\n",
    "df.head(2)"
   ]
  },
  {
   "cell_type": "code",
   "execution_count": null,
   "id": "18593aa1-32e1-4262-8964-de4a26cac489",
   "metadata": {},
   "outputs": [],
   "source": [
    "# now we can filter our df by just where contains R in age certification\n",
    "# df[df['age_certification'].str.contains('R')].head()   you can do this to select top 5\n",
    "df[df['age_certification'].str.contains('R')].head()"
   ]
  },
  {
   "cell_type": "code",
   "execution_count": 24,
   "id": "8d9b7561-40c9-43d4-bfdb-c50730e5ec66",
   "metadata": {},
   "outputs": [
    {
     "data": {
      "text/html": [
       "<div>\n",
       "<style scoped>\n",
       "    .dataframe tbody tr th:only-of-type {\n",
       "        vertical-align: middle;\n",
       "    }\n",
       "\n",
       "    .dataframe tbody tr th {\n",
       "        vertical-align: top;\n",
       "    }\n",
       "\n",
       "    .dataframe thead th {\n",
       "        text-align: right;\n",
       "    }\n",
       "</style>\n",
       "<table border=\"1\" class=\"dataframe\">\n",
       "  <thead>\n",
       "    <tr style=\"text-align: right;\">\n",
       "      <th></th>\n",
       "      <th>index</th>\n",
       "      <th>id</th>\n",
       "      <th>movie_name</th>\n",
       "      <th>type</th>\n",
       "      <th>description</th>\n",
       "      <th>year_of_release</th>\n",
       "      <th>status</th>\n",
       "      <th>age_certification</th>\n",
       "      <th>runtime</th>\n",
       "      <th>imdb_id</th>\n",
       "      <th>imdb_score</th>\n",
       "      <th>imdb_votes</th>\n",
       "    </tr>\n",
       "  </thead>\n",
       "  <tbody>\n",
       "    <tr>\n",
       "      <th>229</th>\n",
       "      <td>229</td>\n",
       "      <td>ts4</td>\n",
       "      <td>Breaking Bad</td>\n",
       "      <td>SHOW</td>\n",
       "      <td>When Walter White, a New Mexico chemistry teac...</td>\n",
       "      <td>2008</td>\n",
       "      <td>old</td>\n",
       "      <td>TV-MA</td>\n",
       "      <td>48</td>\n",
       "      <td>imdb0903747</td>\n",
       "      <td>9.5</td>\n",
       "      <td>1727694.0</td>\n",
       "    </tr>\n",
       "    <tr>\n",
       "      <th>245</th>\n",
       "      <td>245</td>\n",
       "      <td>ts3371</td>\n",
       "      <td>Avatar: The Last Airbender</td>\n",
       "      <td>SHOW</td>\n",
       "      <td>In a war-torn world of elemental magic, a youn...</td>\n",
       "      <td>2005</td>\n",
       "      <td>old</td>\n",
       "      <td>TV-Y7</td>\n",
       "      <td>24</td>\n",
       "      <td>imdb0417299</td>\n",
       "      <td>9.3</td>\n",
       "      <td>297336.0</td>\n",
       "    </tr>\n",
       "    <tr>\n",
       "      <th>256</th>\n",
       "      <td>256</td>\n",
       "      <td>ts11313</td>\n",
       "      <td>DEATH NOTE</td>\n",
       "      <td>SHOW</td>\n",
       "      <td>Light Yagami is an ace student with great pros...</td>\n",
       "      <td>2006</td>\n",
       "      <td>old</td>\n",
       "      <td>TV-14</td>\n",
       "      <td>24</td>\n",
       "      <td>imdb0877057</td>\n",
       "      <td>9.0</td>\n",
       "      <td>302147.0</td>\n",
       "    </tr>\n",
       "  </tbody>\n",
       "</table>\n",
       "</div>"
      ],
      "text/plain": [
       "     index       id                  movie_name  type  \\\n",
       "229    229      ts4                Breaking Bad  SHOW   \n",
       "245    245   ts3371  Avatar: The Last Airbender  SHOW   \n",
       "256    256  ts11313                  DEATH NOTE  SHOW   \n",
       "\n",
       "                                           description  year_of_release  \\\n",
       "229  When Walter White, a New Mexico chemistry teac...             2008   \n",
       "245  In a war-torn world of elemental magic, a youn...             2005   \n",
       "256  Light Yagami is an ace student with great pros...             2006   \n",
       "\n",
       "    status age_certification  runtime      imdb_id  imdb_score  imdb_votes  \n",
       "229    old             TV-MA       48  imdb0903747         9.5   1727694.0  \n",
       "245    old             TV-Y7       24  imdb0417299         9.3    297336.0  \n",
       "256    old             TV-14       24  imdb0877057         9.0    302147.0  "
      ]
     },
     "execution_count": 24,
     "metadata": {},
     "output_type": "execute_result"
    }
   ],
   "source": [
    "# we want to look at the entire dataframe where imdb_score is greater than 8 and year of release is greater than 2000\n",
    "df[(df['imdb_score'] > 8.9) & (df['year_of_release'] > 2000)].head(3)"
   ]
  },
  {
   "cell_type": "code",
   "execution_count": 25,
   "id": "9c2bac5f-c3ff-46db-829f-0ee70af5e03f",
   "metadata": {},
   "outputs": [
    {
     "data": {
      "text/html": [
       "<div>\n",
       "<style scoped>\n",
       "    .dataframe tbody tr th:only-of-type {\n",
       "        vertical-align: middle;\n",
       "    }\n",
       "\n",
       "    .dataframe tbody tr th {\n",
       "        vertical-align: top;\n",
       "    }\n",
       "\n",
       "    .dataframe thead th {\n",
       "        text-align: right;\n",
       "    }\n",
       "</style>\n",
       "<table border=\"1\" class=\"dataframe\">\n",
       "  <thead>\n",
       "    <tr style=\"text-align: right;\">\n",
       "      <th></th>\n",
       "      <th>movie_name</th>\n",
       "      <th>imdb_score</th>\n",
       "      <th>year_of_release</th>\n",
       "    </tr>\n",
       "  </thead>\n",
       "  <tbody>\n",
       "    <tr>\n",
       "      <th>229</th>\n",
       "      <td>Breaking Bad</td>\n",
       "      <td>9.5</td>\n",
       "      <td>2008</td>\n",
       "    </tr>\n",
       "    <tr>\n",
       "      <th>245</th>\n",
       "      <td>Avatar: The Last Airbender</td>\n",
       "      <td>9.3</td>\n",
       "      <td>2005</td>\n",
       "    </tr>\n",
       "    <tr>\n",
       "      <th>256</th>\n",
       "      <td>DEATH NOTE</td>\n",
       "      <td>9.0</td>\n",
       "      <td>2006</td>\n",
       "    </tr>\n",
       "    <tr>\n",
       "      <th>622</th>\n",
       "      <td>Khawatir</td>\n",
       "      <td>9.6</td>\n",
       "      <td>2005</td>\n",
       "    </tr>\n",
       "    <tr>\n",
       "      <th>673</th>\n",
       "      <td>Hunter x Hunter</td>\n",
       "      <td>9.0</td>\n",
       "      <td>2011</td>\n",
       "    </tr>\n",
       "    <tr>\n",
       "      <th>822</th>\n",
       "      <td>Chhota Bheem &amp; Krishna in Mayanagari</td>\n",
       "      <td>9.0</td>\n",
       "      <td>2011</td>\n",
       "    </tr>\n",
       "    <tr>\n",
       "      <th>860</th>\n",
       "      <td>Attack on Titan</td>\n",
       "      <td>9.0</td>\n",
       "      <td>2013</td>\n",
       "    </tr>\n",
       "    <tr>\n",
       "      <th>1033</th>\n",
       "      <td>Raja, Rasoi Aur Anya Kahaniyaan</td>\n",
       "      <td>9.0</td>\n",
       "      <td>2014</td>\n",
       "    </tr>\n",
       "    <tr>\n",
       "      <th>1189</th>\n",
       "      <td>Leah Remini: Scientology and the Aftermath</td>\n",
       "      <td>9.0</td>\n",
       "      <td>2016</td>\n",
       "    </tr>\n",
       "    <tr>\n",
       "      <th>1346</th>\n",
       "      <td>Reply 1988</td>\n",
       "      <td>9.2</td>\n",
       "      <td>2015</td>\n",
       "    </tr>\n",
       "    <tr>\n",
       "      <th>1953</th>\n",
       "      <td>My Mister</td>\n",
       "      <td>9.2</td>\n",
       "      <td>2018</td>\n",
       "    </tr>\n",
       "    <tr>\n",
       "      <th>2685</th>\n",
       "      <td>C/o Kancharapalem</td>\n",
       "      <td>9.0</td>\n",
       "      <td>2018</td>\n",
       "    </tr>\n",
       "    <tr>\n",
       "      <th>2787</th>\n",
       "      <td>#ABtalks</td>\n",
       "      <td>9.6</td>\n",
       "      <td>2018</td>\n",
       "    </tr>\n",
       "    <tr>\n",
       "      <th>3026</th>\n",
       "      <td>The Last Dance</td>\n",
       "      <td>9.1</td>\n",
       "      <td>2020</td>\n",
       "    </tr>\n",
       "    <tr>\n",
       "      <th>3144</th>\n",
       "      <td>Our Planet</td>\n",
       "      <td>9.3</td>\n",
       "      <td>2019</td>\n",
       "    </tr>\n",
       "    <tr>\n",
       "      <th>3172</th>\n",
       "      <td>David Attenborough: A Life on Our Planet</td>\n",
       "      <td>9.0</td>\n",
       "      <td>2020</td>\n",
       "    </tr>\n",
       "    <tr>\n",
       "      <th>3597</th>\n",
       "      <td>Kota Factory</td>\n",
       "      <td>9.3</td>\n",
       "      <td>2019</td>\n",
       "    </tr>\n",
       "    <tr>\n",
       "      <th>4429</th>\n",
       "      <td>Arcane</td>\n",
       "      <td>9.1</td>\n",
       "      <td>2021</td>\n",
       "    </tr>\n",
       "    <tr>\n",
       "      <th>4628</th>\n",
       "      <td>Who Rules The World</td>\n",
       "      <td>9.2</td>\n",
       "      <td>2022</td>\n",
       "    </tr>\n",
       "  </tbody>\n",
       "</table>\n",
       "</div>"
      ],
      "text/plain": [
       "                                      movie_name  imdb_score  year_of_release\n",
       "229                                 Breaking Bad         9.5             2008\n",
       "245                   Avatar: The Last Airbender         9.3             2005\n",
       "256                                   DEATH NOTE         9.0             2006\n",
       "622                                     Khawatir         9.6             2005\n",
       "673                              Hunter x Hunter         9.0             2011\n",
       "822         Chhota Bheem & Krishna in Mayanagari         9.0             2011\n",
       "860                              Attack on Titan         9.0             2013\n",
       "1033             Raja, Rasoi Aur Anya Kahaniyaan         9.0             2014\n",
       "1189  Leah Remini: Scientology and the Aftermath         9.0             2016\n",
       "1346                                  Reply 1988         9.2             2015\n",
       "1953                                   My Mister         9.2             2018\n",
       "2685                           C/o Kancharapalem         9.0             2018\n",
       "2787                                    #ABtalks         9.6             2018\n",
       "3026                              The Last Dance         9.1             2020\n",
       "3144                                  Our Planet         9.3             2019\n",
       "3172    David Attenborough: A Life on Our Planet         9.0             2020\n",
       "3597                                Kota Factory         9.3             2019\n",
       "4429                                      Arcane         9.1             2021\n",
       "4628                         Who Rules The World         9.2             2022"
      ]
     },
     "execution_count": 25,
     "metadata": {},
     "output_type": "execute_result"
    }
   ],
   "source": [
    "# Its cool but lets zoom down to specific columns\n",
    "# we return just the movie name, year of release and imdb score (not the entire df\n",
    "# we could use: \n",
    "df[['movie_name', 'imdb_score', 'year_of_release']][(df['imdb_score'] > 8.9) & (df['year_of_release'] > 2000)]\n",
    "# I observed that lots of anime shows had ratings 9.0 and over and as an anime fan I'm happy\n"
   ]
  },
  {
   "cell_type": "code",
   "execution_count": 26,
   "id": "5f8172be-1dbe-4e49-892c-8cb2044b3958",
   "metadata": {},
   "outputs": [
    {
     "data": {
      "text/html": [
       "<div>\n",
       "<style scoped>\n",
       "    .dataframe tbody tr th:only-of-type {\n",
       "        vertical-align: middle;\n",
       "    }\n",
       "\n",
       "    .dataframe tbody tr th {\n",
       "        vertical-align: top;\n",
       "    }\n",
       "\n",
       "    .dataframe thead th {\n",
       "        text-align: right;\n",
       "    }\n",
       "</style>\n",
       "<table border=\"1\" class=\"dataframe\">\n",
       "  <thead>\n",
       "    <tr style=\"text-align: right;\">\n",
       "      <th></th>\n",
       "      <th>movie_name</th>\n",
       "      <th>imdb_score</th>\n",
       "      <th>year_of_release</th>\n",
       "    </tr>\n",
       "  </thead>\n",
       "  <tbody>\n",
       "    <tr>\n",
       "      <th>229</th>\n",
       "      <td>Breaking Bad</td>\n",
       "      <td>9.5</td>\n",
       "      <td>2008</td>\n",
       "    </tr>\n",
       "    <tr>\n",
       "      <th>245</th>\n",
       "      <td>Avatar: The Last Airbender</td>\n",
       "      <td>9.3</td>\n",
       "      <td>2005</td>\n",
       "    </tr>\n",
       "    <tr>\n",
       "      <th>256</th>\n",
       "      <td>DEATH NOTE</td>\n",
       "      <td>9.0</td>\n",
       "      <td>2006</td>\n",
       "    </tr>\n",
       "  </tbody>\n",
       "</table>\n",
       "</div>"
      ],
      "text/plain": [
       "                     movie_name  imdb_score  year_of_release\n",
       "229                Breaking Bad         9.5             2008\n",
       "245  Avatar: The Last Airbender         9.3             2005\n",
       "256                  DEATH NOTE         9.0             2006"
      ]
     },
     "execution_count": 26,
     "metadata": {},
     "output_type": "execute_result"
    }
   ],
   "source": [
    "# alternatively we could go with the .query method (just for these 3 columns and lets just call 3 rows)\n",
    "df.query('imdb_score > 8.9 and year_of_release > 2000')[['movie_name', 'imdb_score', 'year_of_release']].head(3)"
   ]
  },
  {
   "cell_type": "code",
   "execution_count": null,
   "id": "cfe80807-4cb0-46bd-ace7-45020e19626d",
   "metadata": {},
   "outputs": [],
   "source": []
  },
  {
   "cell_type": "code",
   "execution_count": 37,
   "id": "268e7e3c-2559-4e7e-ba19-883fae4422f3",
   "metadata": {},
   "outputs": [
    {
     "data": {
      "text/plain": [
       "Index(['index', 'id', 'movie_name', 'type', 'description', 'year_of_release',\n",
       "       'status', 'age_certification', 'runtime', 'imdb_id', 'imdb_score',\n",
       "       'imdb_votes'],\n",
       "      dtype='object')"
      ]
     },
     "execution_count": 37,
     "metadata": {},
     "output_type": "execute_result"
    }
   ],
   "source": [
    "df.columns"
   ]
  },
  {
   "cell_type": "code",
   "execution_count": 38,
   "id": "8238944a-c807-476a-afd2-253396035c1a",
   "metadata": {},
   "outputs": [
    {
     "data": {
      "text/plain": [
       "array([<Axes: xlabel='index'>, <Axes: xlabel='index'>,\n",
       "       <Axes: xlabel='index'>, <Axes: xlabel='index'>], dtype=object)"
      ]
     },
     "execution_count": 38,
     "metadata": {},
     "output_type": "execute_result"
    },
    {
     "data": {
      "image/png": "[encoded data removed]",
      "text/plain": [
       "<Figure size 640x480 with 4 Axes>"
      ]
     },
     "metadata": {},
     "output_type": "display_data"
    }
   ],
   "source": [
    "df.set_index('index').plot(subplots = True)"
   ]
  },
  {
   "cell_type": "markdown",
   "id": "0b534fcc-1265-4d7f-b5fa-6fd7d337334f",
   "metadata": {},
   "source": [
    "now we're done lets export to csv"
   ]
  },
  {
   "cell_type": "code",
   "execution_count": null,
   "id": "34c21238-27dd-4907-a49e-517771822e3f",
   "metadata": {},
   "outputs": [],
   "source": [
    "# Export to CSV\n",
    "df.to_csv('Desktop/#From Eghosa/#Python training/Python data cleaning/Practise 1/cleaned_data.csv', index=False)\n"
   ]
  },
  {
   "cell_type": "code",
   "execution_count": null,
   "id": "d3e2b7c6-1e7b-432d-bc23-4b1576186a4d",
   "metadata": {},
   "outputs": [],
   "source": []
  }
 ],
 "metadata": {
  "kernelspec": {
   "display_name": "Python 3 (ipykernel)",
   "language": "python",
   "name": "python3"
  },
  "language_info": {
   "codemirror_mode": {
    "name": "ipython",
    "version": 3
   },
   "file_extension": ".py",
   "mimetype": "text/x-python",
   "name": "python",
   "nbconvert_exporter": "python",
   "pygments_lexer": "ipython3",
   "version": "3.11.7"
  },
  "widgets": {
   "application/vnd.jupyter.widget-state+json": {
    "state": {},
    "version_major": 2,
    "version_minor": 0
   }
  }
 },
 "nbformat": 4,
 "nbformat_minor": 5
}
