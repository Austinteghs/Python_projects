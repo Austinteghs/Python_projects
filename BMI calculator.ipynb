{
 "cells": [
  {
   "cell_type": "code",
   "execution_count": null,
   "id": "3c0cd519",
   "metadata": {},
   "outputs": [],
   "source": [
    "#inspiration behind the calculator https://mercer-health.com/services/weight-management-center/bmi-calculator#:~:text=Body%20Mass%20Index%2C%20or%20BMI,inches%20x%20height%20in%20inches"
   ]
  },
  {
   "cell_type": "code",
   "execution_count": 4,
   "id": "4477e5e0",
   "metadata": {},
   "outputs": [
    {
     "name": "stdout",
     "output_type": "stream",
     "text": [
      "Enter you name: Tinker bella\n",
      "Enter your weight in pounds: 90\n",
      "Enter your height in inches: 30\n",
      "70.3\n",
      "Tinker bella, you are morbidly obese. Please start your weight loss journey asap and sont forget to believe in yourself\n"
     ]
    }
   ],
   "source": [
    "name = input(\"Enter you name: \")\n",
    "\n",
    "weight = int(input(\"Enter your weight in pounds: \"))\n",
    "\n",
    "height = int(input(\"Enter your height in inches: \"))\n",
    "\n",
    "BMI = (weight * 703) / (height * height)\n",
    "\n",
    "print(BMI)\n",
    "\n",
    "if BMI>0:\n",
    "    if(BMI<18.5):\n",
    "        print(name +\", you are underweight. You outta eat more and add more weight\")\n",
    "    elif (BMI<=24.9):\n",
    "        print(name +\", you are normal weight. Yay! keep it up\")\n",
    "    elif (BMI<29.9):\n",
    "        print(name +\", you are overweight. You need to exercise more being lazy about going to the gym.\")\n",
    "    elif (BMI<34.9):\n",
    "        print(name +\", you are obese. Please do start watching your weight\")\n",
    "    elif (BMI<39.9):\n",
    "        print(name +\", you are severely obese. Thats not great on you\")\n",
    "    else:\n",
    "        print(name +\", you are morbidly obese. Please start your weight loss journey asap and dont forget to believe in yourself! you can do it\")\n",
    "else:\n",
    "    print(\"Enter valid input\")\n",
    "    "
   ]
  },
  {
   "cell_type": "code",
   "execution_count": null,
   "id": "1739ff1a",
   "metadata": {},
   "outputs": [],
   "source": []
  }
 ],
 "metadata": {
  "kernelspec": {
   "display_name": "Python 3",
   "language": "python",
   "name": "python3"
  },
  "language_info": {
   "codemirror_mode": {
    "name": "ipython",
    "version": 3
   },
   "file_extension": ".py",
   "mimetype": "text/x-python",
   "name": "python",
   "nbconvert_exporter": "python",
   "pygments_lexer": "ipython3",
   "version": "3.8.8"
  }
 },
 "nbformat": 4,
 "nbformat_minor": 5
}
